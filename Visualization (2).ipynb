{
 "cells": [
  {
   "cell_type": "code",
   "execution_count": 1,
   "metadata": {},
   "outputs": [],
   "source": [
    "import pandas as pd\n",
    "import matplotlib.pyplot as plt\n",
    "import seaborn as sns"
   ]
  },
  {
   "cell_type": "code",
   "execution_count": 2,
   "metadata": {},
   "outputs": [],
   "source": [
    "age = pd.read_csv(\"AgeDetails.csv\")"
   ]
  },
  {
   "cell_type": "code",
   "execution_count": 3,
   "metadata": {},
   "outputs": [],
   "source": [
    "patients = pd.read_csv(\"Data.csv\")"
   ]
  },
  {
   "cell_type": "code",
   "execution_count": 4,
   "metadata": {},
   "outputs": [
    {
     "name": "stdout",
     "output_type": "stream",
     "text": [
      "<class 'pandas.core.frame.DataFrame'>\n",
      "RangeIndex: 12321 entries, 0 to 12320\n",
      "Data columns (total 19 columns):\n",
      "patient_number                 12321 non-null int64\n",
      "state_patient_number           2100 non-null object\n",
      "date_announced                 12321 non-null object\n",
      "age_bracket                    1507 non-null object\n",
      "gender                         2385 non-null object\n",
      "detected_city                  1460 non-null object\n",
      "detected_district              10150 non-null object\n",
      "detected_state                 12321 non-null object\n",
      "state_code                     12320 non-null object\n",
      "current_status                 12319 non-null object\n",
      "notes                          11130 non-null object\n",
      "suspected_contacted_patient    1427 non-null object\n",
      "nationality                    1297 non-null object\n",
      "type_of_transmission           2941 non-null object\n",
      "status_change_date             12209 non-null object\n",
      "source_1                       12130 non-null object\n",
      "source_2                       3126 non-null object\n",
      "source_3                       323 non-null object\n",
      "backup_notes                   360 non-null object\n",
      "dtypes: int64(1), object(18)\n",
      "memory usage: 1.8+ MB\n"
     ]
    }
   ],
   "source": [
    "patients.info()"
   ]
  },
  {
   "cell_type": "code",
   "execution_count": 30,
   "metadata": {},
   "outputs": [
    {
     "data": {
      "text/html": [
       "<div>\n",
       "<style scoped>\n",
       "    .dataframe tbody tr th:only-of-type {\n",
       "        vertical-align: middle;\n",
       "    }\n",
       "\n",
       "    .dataframe tbody tr th {\n",
       "        vertical-align: top;\n",
       "    }\n",
       "\n",
       "    .dataframe thead th {\n",
       "        text-align: right;\n",
       "    }\n",
       "</style>\n",
       "<table border=\"1\" class=\"dataframe\">\n",
       "  <thead>\n",
       "    <tr style=\"text-align: right;\">\n",
       "      <th></th>\n",
       "      <th>patient_number</th>\n",
       "      <th>state_patient_number</th>\n",
       "      <th>date_announced</th>\n",
       "      <th>age_bracket</th>\n",
       "      <th>gender</th>\n",
       "      <th>detected_city</th>\n",
       "      <th>detected_district</th>\n",
       "      <th>detected_state</th>\n",
       "      <th>state_code</th>\n",
       "      <th>current_status</th>\n",
       "      <th>notes</th>\n",
       "      <th>suspected_contacted_patient</th>\n",
       "      <th>nationality</th>\n",
       "      <th>type_of_transmission</th>\n",
       "      <th>status_change_date</th>\n",
       "      <th>source_1</th>\n",
       "      <th>source_2</th>\n",
       "      <th>source_3</th>\n",
       "      <th>backup_notes</th>\n",
       "    </tr>\n",
       "  </thead>\n",
       "  <tbody>\n",
       "    <tr>\n",
       "      <th>0</th>\n",
       "      <td>1</td>\n",
       "      <td>KL-TS-P1</td>\n",
       "      <td>30/01/2020</td>\n",
       "      <td>20</td>\n",
       "      <td>F</td>\n",
       "      <td>Thrissur</td>\n",
       "      <td>Thrissur</td>\n",
       "      <td>Kerala</td>\n",
       "      <td>KL</td>\n",
       "      <td>Recovered</td>\n",
       "      <td>Travelled from Wuhan</td>\n",
       "      <td>NaN</td>\n",
       "      <td>India</td>\n",
       "      <td>Imported</td>\n",
       "      <td>14/02/2020</td>\n",
       "      <td>https://twitter.com/vijayanpinarayi/status/122...</td>\n",
       "      <td>https://weather.com/en-IN/india/news/news/2020...</td>\n",
       "      <td>Student from Wuhan</td>\n",
       "      <td>NaN</td>\n",
       "    </tr>\n",
       "    <tr>\n",
       "      <th>1</th>\n",
       "      <td>2</td>\n",
       "      <td>KL-AL-P1</td>\n",
       "      <td>02/02/2020</td>\n",
       "      <td>NaN</td>\n",
       "      <td>NaN</td>\n",
       "      <td>Alappuzha</td>\n",
       "      <td>Alappuzha</td>\n",
       "      <td>Kerala</td>\n",
       "      <td>KL</td>\n",
       "      <td>Recovered</td>\n",
       "      <td>Travelled from Wuhan</td>\n",
       "      <td>NaN</td>\n",
       "      <td>India</td>\n",
       "      <td>Imported</td>\n",
       "      <td>14/02/2020</td>\n",
       "      <td>https://www.indiatoday.in/india/story/kerala-r...</td>\n",
       "      <td>https://weather.com/en-IN/india/news/news/2020...</td>\n",
       "      <td>NaN</td>\n",
       "      <td>Student from Wuhan</td>\n",
       "    </tr>\n",
       "    <tr>\n",
       "      <th>2</th>\n",
       "      <td>3</td>\n",
       "      <td>KL-KS-P1</td>\n",
       "      <td>03/02/2020</td>\n",
       "      <td>NaN</td>\n",
       "      <td>NaN</td>\n",
       "      <td>Kasaragod</td>\n",
       "      <td>Kasaragod</td>\n",
       "      <td>Kerala</td>\n",
       "      <td>KL</td>\n",
       "      <td>Recovered</td>\n",
       "      <td>Travelled from Wuhan</td>\n",
       "      <td>NaN</td>\n",
       "      <td>India</td>\n",
       "      <td>Imported</td>\n",
       "      <td>14/02/2020</td>\n",
       "      <td>https://www.indiatoday.in/india/story/kerala-n...</td>\n",
       "      <td>https://twitter.com/ANI/status/122422148580539...</td>\n",
       "      <td>https://weather.com/en-IN/india/news/news/2020...</td>\n",
       "      <td>Student from Wuhan</td>\n",
       "    </tr>\n",
       "    <tr>\n",
       "      <th>3</th>\n",
       "      <td>4</td>\n",
       "      <td>DL-P1</td>\n",
       "      <td>02/03/2020</td>\n",
       "      <td>45</td>\n",
       "      <td>M</td>\n",
       "      <td>East Delhi (Mayur Vihar)</td>\n",
       "      <td>East Delhi</td>\n",
       "      <td>Delhi</td>\n",
       "      <td>DL</td>\n",
       "      <td>Recovered</td>\n",
       "      <td>Travelled from Austria, Italy</td>\n",
       "      <td>NaN</td>\n",
       "      <td>India</td>\n",
       "      <td>Imported</td>\n",
       "      <td>15/03/2020</td>\n",
       "      <td>https://www.indiatoday.in/india/story/not-a-ja...</td>\n",
       "      <td>https://economictimes.indiatimes.com/news/poli...</td>\n",
       "      <td>NaN</td>\n",
       "      <td>Travel history to Italy and Austria</td>\n",
       "    </tr>\n",
       "    <tr>\n",
       "      <th>4</th>\n",
       "      <td>5</td>\n",
       "      <td>TS-P1</td>\n",
       "      <td>02/03/2020</td>\n",
       "      <td>24</td>\n",
       "      <td>M</td>\n",
       "      <td>Hyderabad</td>\n",
       "      <td>Hyderabad</td>\n",
       "      <td>Telangana</td>\n",
       "      <td>TG</td>\n",
       "      <td>Recovered</td>\n",
       "      <td>Travelled from Dubai to Bangalore on 20th Feb,...</td>\n",
       "      <td>NaN</td>\n",
       "      <td>India</td>\n",
       "      <td>Imported</td>\n",
       "      <td>02/03/2020</td>\n",
       "      <td>https://www.deccanherald.com/national/south/qu...</td>\n",
       "      <td>https://www.indiatoday.in/india/story/coronavi...</td>\n",
       "      <td>https://www.thehindu.com/news/national/coronav...</td>\n",
       "      <td>Travel history to Dubai, Singapore contact</td>\n",
       "    </tr>\n",
       "  </tbody>\n",
       "</table>\n",
       "</div>"
      ],
      "text/plain": [
       "   patient_number state_patient_number date_announced age_bracket gender  \\\n",
       "0               1             KL-TS-P1     30/01/2020          20      F   \n",
       "1               2             KL-AL-P1     02/02/2020         NaN    NaN   \n",
       "2               3             KL-KS-P1     03/02/2020         NaN    NaN   \n",
       "3               4                DL-P1     02/03/2020          45      M   \n",
       "4               5                TS-P1     02/03/2020          24      M   \n",
       "\n",
       "              detected_city detected_district detected_state state_code  \\\n",
       "0                  Thrissur          Thrissur         Kerala         KL   \n",
       "1                 Alappuzha         Alappuzha         Kerala         KL   \n",
       "2                 Kasaragod         Kasaragod         Kerala         KL   \n",
       "3  East Delhi (Mayur Vihar)        East Delhi          Delhi         DL   \n",
       "4                 Hyderabad         Hyderabad      Telangana         TG   \n",
       "\n",
       "  current_status                                              notes  \\\n",
       "0      Recovered                               Travelled from Wuhan   \n",
       "1      Recovered                               Travelled from Wuhan   \n",
       "2      Recovered                               Travelled from Wuhan   \n",
       "3      Recovered                      Travelled from Austria, Italy   \n",
       "4      Recovered  Travelled from Dubai to Bangalore on 20th Feb,...   \n",
       "\n",
       "  suspected_contacted_patient nationality type_of_transmission  \\\n",
       "0                         NaN       India             Imported   \n",
       "1                         NaN       India             Imported   \n",
       "2                         NaN       India             Imported   \n",
       "3                         NaN       India             Imported   \n",
       "4                         NaN       India             Imported   \n",
       "\n",
       "  status_change_date                                           source_1  \\\n",
       "0         14/02/2020  https://twitter.com/vijayanpinarayi/status/122...   \n",
       "1         14/02/2020  https://www.indiatoday.in/india/story/kerala-r...   \n",
       "2         14/02/2020  https://www.indiatoday.in/india/story/kerala-n...   \n",
       "3         15/03/2020  https://www.indiatoday.in/india/story/not-a-ja...   \n",
       "4         02/03/2020  https://www.deccanherald.com/national/south/qu...   \n",
       "\n",
       "                                            source_2  \\\n",
       "0  https://weather.com/en-IN/india/news/news/2020...   \n",
       "1  https://weather.com/en-IN/india/news/news/2020...   \n",
       "2  https://twitter.com/ANI/status/122422148580539...   \n",
       "3  https://economictimes.indiatimes.com/news/poli...   \n",
       "4  https://www.indiatoday.in/india/story/coronavi...   \n",
       "\n",
       "                                            source_3  \\\n",
       "0                                 Student from Wuhan   \n",
       "1                                                NaN   \n",
       "2  https://weather.com/en-IN/india/news/news/2020...   \n",
       "3                                                NaN   \n",
       "4  https://www.thehindu.com/news/national/coronav...   \n",
       "\n",
       "                                 backup_notes  \n",
       "0                                         NaN  \n",
       "1                          Student from Wuhan  \n",
       "2                          Student from Wuhan  \n",
       "3         Travel history to Italy and Austria  \n",
       "4  Travel history to Dubai, Singapore contact  "
      ]
     },
     "execution_count": 30,
     "metadata": {},
     "output_type": "execute_result"
    }
   ],
   "source": [
    "patients.head()"
   ]
  },
  {
   "cell_type": "code",
   "execution_count": 5,
   "metadata": {},
   "outputs": [
    {
     "data": {
      "text/plain": [
       "<matplotlib.axes._subplots.AxesSubplot at 0xf1f2dcbf98>"
      ]
     },
     "execution_count": 5,
     "metadata": {},
     "output_type": "execute_result"
    },
    {
     "data": {
      "image/png": "[encoded data removed]",
      "text/plain": [
       "<Figure size 432x288 with 1 Axes>"
      ]
     },
     "metadata": {
      "needs_background": "light"
     },
     "output_type": "display_data"
    }
   ],
   "source": [
    "sns.countplot(patients.gender)"
   ]
  },
  {
   "cell_type": "code",
   "execution_count": 32,
   "metadata": {},
   "outputs": [
    {
     "data": {
      "text/plain": [
       "<matplotlib.axes._subplots.AxesSubplot at 0x1309dacf8>"
      ]
     },
     "execution_count": 32,
     "metadata": {},
     "output_type": "execute_result"
    },
    {
     "data": {
      "image/png": "[encoded data removed]",
      "text/plain": [
       "<Figure size 432x288 with 1 Axes>"
      ]
     },
     "metadata": {
      "needs_background": "light"
     },
     "output_type": "display_data"
    }
   ],
   "source": [
    "sns.barplot(age.AgeGroup, age.TotalCases)"
   ]
  },
  {
   "cell_type": "code",
   "execution_count": 33,
   "metadata": {},
   "outputs": [
    {
     "data": {
      "text/plain": [
       "[Text(0, 0, 'Kerala'),\n",
       " Text(0, 0, 'Delhi'),\n",
       " Text(0, 0, 'Telangana'),\n",
       " Text(0, 0, 'Rajasthan'),\n",
       " Text(0, 0, 'Haryana'),\n",
       " Text(0, 0, 'Uttar Pradesh'),\n",
       " Text(0, 0, 'Ladakh'),\n",
       " Text(0, 0, 'Tamil Nadu'),\n",
       " Text(0, 0, 'Jammu and Kashmir'),\n",
       " Text(0, 0, 'Karnataka'),\n",
       " Text(0, 0, 'Maharashtra'),\n",
       " Text(0, 0, 'Punjab'),\n",
       " Text(0, 0, 'Andhra Pradesh'),\n",
       " Text(0, 0, 'Uttarakhand'),\n",
       " Text(0, 0, 'Odisha'),\n",
       " Text(0, 0, 'Puducherry'),\n",
       " Text(0, 0, 'West Bengal'),\n",
       " Text(0, 0, 'Chandigarh'),\n",
       " Text(0, 0, 'Chhattisgarh'),\n",
       " Text(0, 0, 'Gujarat'),\n",
       " Text(0, 0, 'Himachal Pradesh'),\n",
       " Text(0, 0, 'Madhya Pradesh'),\n",
       " Text(0, 0, 'Bihar'),\n",
       " Text(0, 0, 'Manipur'),\n",
       " Text(0, 0, 'Mizoram'),\n",
       " Text(0, 0, 'Goa'),\n",
       " Text(0, 0, 'Andaman and Nicobar Islands'),\n",
       " Text(0, 0, 'Jharkhand'),\n",
       " Text(0, 0, 'Assam'),\n",
       " Text(0, 0, 'Arunachal Pradesh'),\n",
       " Text(0, 0, 'Dadra and Nagar Haveli'),\n",
       " Text(0, 0, 'Tripura'),\n",
       " Text(0, 0, 'Nagaland'),\n",
       " Text(0, 0, 'Meghalaya')]"
      ]
     },
     "execution_count": 33,
     "metadata": {},
     "output_type": "execute_result"
    },
    {
     "data": {
      "image/png": "[encoded data removed]",
      "text/plain": [
       "<Figure size 864x864 with 1 Axes>"
      ]
     },
     "metadata": {
      "needs_background": "light"
     },
     "output_type": "display_data"
    }
   ],
   "source": [
    "plt.figure(figsize=(12,12))\n",
    "g1 = sns.countplot(patients.detected_state)\n",
    "g1.set_xticklabels(labels = patients.detected_state.unique(),rotation = 90)"
   ]
  },
  {
   "cell_type": "code",
   "execution_count": null,
   "metadata": {},
   "outputs": [],
   "source": []
  }
 ],
 "metadata": {
  "kernelspec": {
   "display_name": "Python 3",
   "language": "python",
   "name": "python3"
  },
  "language_info": {
   "codemirror_mode": {
    "name": "ipython",
    "version": 3
   },
   "file_extension": ".py",
   "mimetype": "text/x-python",
   "name": "python",
   "nbconvert_exporter": "python",
   "pygments_lexer": "ipython3",
   "version": "3.7.1"
  }
 },
 "nbformat": 4,
 "nbformat_minor": 2
}
